{
 "cells": [
  {
   "cell_type": "code",
   "execution_count": null,
   "id": "e2c48449",
   "metadata": {},
   "outputs": [],
   "source": [
    "# Dependencies and Setup\n",
    "import pandas as pd"
   ]
  },
  {
   "cell_type": "code",
   "execution_count": null,
   "id": "86a1dddf",
   "metadata": {},
   "outputs": [],
   "source": [
    "# File to Load (Remember to Change These)\n",
    "school_data_to_load = \"../Resources/schools_complete.csv\"\n",
    "student_data_to_load = \"../Resources/students_complete.csv\""
   ]
  },
  {
   "cell_type": "code",
   "execution_count": null,
   "id": "dca57906",
   "metadata": {},
   "outputs": [],
   "source": [
    "# Read School Data File and store into Pandas DataFrames\n",
    "school_data = pd.read_csv(school_data_to_load)\n",
    "school_data"
   ]
  },
  {
   "cell_type": "code",
   "execution_count": null,
   "id": "da406f4d",
   "metadata": {},
   "outputs": [],
   "source": [
    "# Read Student Data File and store into Pandas DataFrames\n",
    "student_data = pd.read_csv(student_data_to_load)\n",
    "student_data.head()"
   ]
  },
  {
   "cell_type": "code",
   "execution_count": null,
   "id": "3303af23",
   "metadata": {},
   "outputs": [],
   "source": [
    "# Combine the data into a single dataset.  \n",
    "school_data_complete = pd.merge(student_data, school_data, how=\"left\", on=\"school_name\")\n",
    "school_data_complete.head()"
   ]
  },
  {
   "cell_type": "markdown",
   "id": "c56c8e9a",
   "metadata": {},
   "source": [
    "## District Summary"
   ]
  },
  {
   "cell_type": "code",
   "execution_count": null,
   "id": "da9dfa2d",
   "metadata": {},
   "outputs": [],
   "source": [
    "#Calculate the total number of schools\n",
    "Total_schools = len(school_data.index)\n",
    "Total_schools"
   ]
  },
  {
   "cell_type": "code",
   "execution_count": null,
   "id": "29082bb7",
   "metadata": {},
   "outputs": [],
   "source": [
    "#Calculate the total number of students\n",
    "Total_students = len(student_data.index)\n",
    "Total_students"
   ]
  },
  {
   "cell_type": "code",
   "execution_count": null,
   "id": "61ad4c5a",
   "metadata": {},
   "outputs": [],
   "source": [
    "#Calculate the total budget\n",
    "Total_budget = school_data[\"budget\"].sum()\n",
    "Total_budget"
   ]
  },
  {
   "cell_type": "code",
   "execution_count": null,
   "id": "68c9739d",
   "metadata": {},
   "outputs": [],
   "source": [
    "#Calculate the average math score\n",
    "Average_Math_score = student_data[\"math_score\"].mean()\n",
    "Average_Math_score"
   ]
  },
  {
   "cell_type": "code",
   "execution_count": null,
   "id": "99920751",
   "metadata": {},
   "outputs": [],
   "source": [
    "#Calculate the average reading score\n",
    "Average_Reading_score = student_data[\"reading_score\"].mean()\n",
    "Average_Reading_score"
   ]
  },
  {
   "cell_type": "code",
   "execution_count": null,
   "id": "46453f9f",
   "metadata": {},
   "outputs": [],
   "source": [
    "# students with >= 70 marks in maths\n",
    "passing_math = student_data.loc[(student_data[\"math_score\"] >= 70),:]\n",
    "passing_math"
   ]
  },
  {
   "cell_type": "code",
   "execution_count": null,
   "id": "29d7baf5",
   "metadata": {},
   "outputs": [],
   "source": [
    "#Total number of students passed in maths\n",
    "passing_math_students = len(passing_math.index) \n",
    "passing_math_students"
   ]
  },
  {
   "cell_type": "code",
   "execution_count": null,
   "id": "4dc73993",
   "metadata": {},
   "outputs": [],
   "source": [
    "#Calculating the percentage of students passed in maths\n",
    "passing_math_perecent = passing_math_students/Total_students * 100\n",
    "passing_math_perecent"
   ]
  },
  {
   "cell_type": "code",
   "execution_count": null,
   "id": "5e20cc69",
   "metadata": {},
   "outputs": [],
   "source": [
    "# students with >= 70 marks in reading\n",
    "passing_reading = student_data.loc[(student_data[\"reading_score\"] >= 70),:]\n",
    "passing_reading"
   ]
  },
  {
   "cell_type": "code",
   "execution_count": null,
   "id": "311196cb",
   "metadata": {},
   "outputs": [],
   "source": [
    "#Total number of students passed in raeding\n",
    "passing_reading_students = len(passing_reading.index) \n",
    "passing_reading_students"
   ]
  },
  {
   "cell_type": "code",
   "execution_count": null,
   "id": "6ead1b6a",
   "metadata": {},
   "outputs": [],
   "source": [
    "#Calculating the percentage of students passed in reading\n",
    "passing_reading_perecent = passing_reading_students/Total_students * 100\n",
    "passing_reading_perecent"
   ]
  },
  {
   "cell_type": "code",
   "execution_count": null,
   "id": "10991eb8",
   "metadata": {},
   "outputs": [],
   "source": [
    "# students with >= 70 marks in maths and reading\n",
    "passing_overall = student_data.loc[(student_data[\"reading_score\"] >= 70) & (student_data[\"math_score\"] >= 70),:]\n",
    "passing_overall"
   ]
  },
  {
   "cell_type": "code",
   "execution_count": null,
   "id": "9fc0e23c",
   "metadata": {},
   "outputs": [],
   "source": [
    "#Total number of students passed Overall\n",
    "passing_overall_students = len(passing_overall.index) \n",
    "passing_overall_students"
   ]
  },
  {
   "cell_type": "code",
   "execution_count": null,
   "id": "e1542fab",
   "metadata": {},
   "outputs": [],
   "source": [
    "#Calculating the percentage of students passed overall\n",
    "passing_overall_perecent = passing_overall_students/Total_students * 100\n",
    "passing_overall_perecent"
   ]
  },
  {
   "cell_type": "code",
   "execution_count": null,
   "id": "3adc6ce0",
   "metadata": {},
   "outputs": [],
   "source": [
    "#District Summary Data Frame - Dictionary of List method\n",
    "District_Summary = pd.DataFrame({ \"Total Schools\":[Total_schools],\"Total Students\":[Total_students],\n",
    "                    \"Total Budget\":[Total_budget],\"Average Math Score\":[Average_Math_score],\n",
    "                    \"Average Reading Score\":[Average_Reading_score],\"% Passing Math\":[passing_math_perecent],\n",
    "                    \"% Passing Reading\":[passing_reading_perecent],\"% Overall Passing\":[passing_overall_perecent]})\n",
    "District_Summary"
   ]
  },
  {
   "cell_type": "code",
   "execution_count": null,
   "id": "7db60704",
   "metadata": {},
   "outputs": [],
   "source": [
    "# formating the cells & final Output for District Summary\n",
    "District_Summary[\"Total Students\"] = District_Summary[\"Total Students\"].map(\"{:,}\".format)\n",
    "District_Summary[\"Total Budget\"] = District_Summary[\"Total Budget\"].map(\"${:,.2f}\".format)"
   ]
  },
  {
   "cell_type": "code",
   "execution_count": null,
   "id": "59ee6f21",
   "metadata": {},
   "outputs": [],
   "source": [
    "District_Summary"
   ]
  },
  {
   "cell_type": "markdown",
   "id": "e8755a17",
   "metadata": {},
   "source": [
    "## School Summary"
   ]
  },
  {
   "cell_type": "code",
   "execution_count": null,
   "id": "5f87d502",
   "metadata": {},
   "outputs": [],
   "source": [
    "#school names\n",
    "school_name = school_data_complete.set_index('school_name').groupby(['school_name'])"
   ]
  },
  {
   "cell_type": "code",
   "execution_count": null,
   "id": "bc3e9ccf",
   "metadata": {},
   "outputs": [],
   "source": [
    "#school types\n",
    "school_type = school_data.set_index('school_name')['type']\n",
    "school_type"
   ]
  },
  {
   "cell_type": "code",
   "execution_count": null,
   "id": "a37416d5",
   "metadata": {},
   "outputs": [],
   "source": [
    "#Student Count per school\n",
    "student_count = school_name['Student ID'].count()\n",
    "student_count"
   ]
  },
  {
   "cell_type": "code",
   "execution_count": null,
   "id": "5f92290e",
   "metadata": {},
   "outputs": [],
   "source": [
    "#Total budget foreach school\n",
    "Total_budget = school_data.set_index('school_name')['budget']\n",
    "Total_budget"
   ]
  },
  {
   "cell_type": "code",
   "execution_count": null,
   "id": "d511e2b1",
   "metadata": {},
   "outputs": [],
   "source": [
    "#per student budget\n",
    "budget_per_student = school_data.set_index('school_name')['budget']/school_data.set_index('school_name')['size']\n",
    "budget_per_student"
   ]
  },
  {
   "cell_type": "code",
   "execution_count": null,
   "id": "b6b99a09",
   "metadata": {},
   "outputs": [],
   "source": [
    "#Average Scores \n",
    "Average_Math =  school_name['math_score'].mean()\n",
    "Average_Reading = school_name['reading_score'].mean()"
   ]
  },
  {
   "cell_type": "code",
   "execution_count": null,
   "id": "f12e0094",
   "metadata": {},
   "outputs": [],
   "source": [
    "# passing %\n",
    "passing_math = school_data_complete[school_data_complete['math_score'] >= 70].groupby('school_name')['Student ID'].count()/student_count * 100\n",
    "passing_read = school_data_complete[school_data_complete['reading_score'] >= 70].groupby('school_name')['Student ID'].count()/student_count * 100\n",
    "overall_passing = school_data_complete[(school_data_complete['reading_score'] >= 70) &\n",
    "         (school_data_complete['math_score'] >= 70)].groupby('school_name')['Student ID'].count()/student_count*100                 "
   ]
  },
  {
   "cell_type": "code",
   "execution_count": null,
   "id": "bd883534",
   "metadata": {},
   "outputs": [],
   "source": [
    "#school summary Dataframe\n",
    "school_summary = pd.DataFrame({\n",
    "    \"School Type\": school_type,\n",
    "    \"Total Students\": student_count,\n",
    "    \"Total School Budget\": Total_budget.map(\"{:,.2f}\".format),\n",
    "    \"Per Student Budget\": budget_per_student.map(\"${:,.2f}\".format),\n",
    "    \"Average Math Score\": Average_Math,\n",
    "    \"Average Reading Score\": Average_Reading,\n",
    "    '% Passing Math': passing_math,\n",
    "    '% Passing Reading': passing_read,\n",
    "    \"% Overall Passing\": overall_passing\n",
    "})"
   ]
  },
  {
   "cell_type": "code",
   "execution_count": null,
   "id": "a2a4e19a",
   "metadata": {},
   "outputs": [],
   "source": [
    "school_summary"
   ]
  },
  {
   "cell_type": "markdown",
   "id": "4f4595be",
   "metadata": {},
   "source": [
    "## Top Performing Schools (By % Overall Passing)"
   ]
  },
  {
   "cell_type": "code",
   "execution_count": null,
   "id": "31c2b790",
   "metadata": {},
   "outputs": [],
   "source": [
    "#Top Performing Schools\n",
    "top_performing_schools = school_summary.sort_values(\"% Overall Passing\", ascending = False)\n",
    "top_performing_schools.head()"
   ]
  },
  {
   "cell_type": "markdown",
   "id": "b491c978",
   "metadata": {},
   "source": [
    "## Bottom Performing Schools (By % Overall Passing)"
   ]
  },
  {
   "cell_type": "code",
   "execution_count": null,
   "id": "3eeb1191",
   "metadata": {},
   "outputs": [],
   "source": [
    "#Bottom Performing Schools\n",
    "bottom_performing_schools = school_summary.sort_values(\"% Overall Passing\")\n",
    "bottom_performing_schools.head()"
   ]
  },
  {
   "cell_type": "markdown",
   "id": "35235c4c",
   "metadata": {},
   "source": [
    "## Math Scores by Grade"
   ]
  },
  {
   "cell_type": "code",
   "execution_count": null,
   "id": "2d90435a",
   "metadata": {},
   "outputs": [],
   "source": [
    "# Math grade level\n",
    "nine_math = student_data.loc[student_data['grade'] == '9th'].groupby('school_name')[\"math_score\"].mean()\n",
    "ten_math = student_data.loc[student_data['grade'] == '10th'].groupby('school_name')[\"math_score\"].mean()\n",
    "eleven_math = student_data.loc[student_data['grade'] == '11th'].groupby('school_name')[\"math_score\"].mean()\n",
    "twelve_math = student_data.loc[student_data['grade'] == '12th'].groupby('school_name')[\"math_score\"].mean()\n"
   ]
  },
  {
   "cell_type": "code",
   "execution_count": null,
   "id": "4e7efd31",
   "metadata": {},
   "outputs": [],
   "source": [
    "#Math Scores Dataframe\n",
    "Math_Scores = pd.DataFrame({\n",
    "        \"9th\": nine_math,\n",
    "        \"10th\": ten_math,\n",
    "        \"11th\": eleven_math,\n",
    "        \"12th\": twelve_math\n",
    "})"
   ]
  },
  {
   "cell_type": "code",
   "execution_count": null,
   "id": "533ce5d3",
   "metadata": {},
   "outputs": [],
   "source": [
    "Math_Scores"
   ]
  },
  {
   "cell_type": "markdown",
   "id": "f74f98dd",
   "metadata": {},
   "source": [
    "## Reading Score by Grade"
   ]
  },
  {
   "cell_type": "code",
   "execution_count": null,
   "id": "921c6c3b",
   "metadata": {},
   "outputs": [],
   "source": [
    "# Reading grade level\n",
    "nine_reading = student_data.loc[student_data['grade'] == '9th'].groupby('school_name')[\"reading_score\"].mean()\n",
    "ten_reading = student_data.loc[student_data['grade'] == '10th'].groupby('school_name')[\"reading_score\"].mean()\n",
    "eleven_reading = student_data.loc[student_data['grade'] == '11th'].groupby('school_name')[\"reading_score\"].mean()\n",
    "twelve_reading = student_data.loc[student_data['grade'] == '12th'].groupby('school_name')[\"reading_score\"].mean()\n"
   ]
  },
  {
   "cell_type": "code",
   "execution_count": null,
   "id": "f884460b",
   "metadata": {},
   "outputs": [],
   "source": [
    "#Reading Scores Dataframe\n",
    "Reading_Scores = pd.DataFrame({\n",
    "        \"9th\": nine_reading,\n",
    "        \"10th\": ten_reading,\n",
    "        \"11th\": eleven_reading,\n",
    "        \"12th\": twelve_reading\n",
    "})"
   ]
  },
  {
   "cell_type": "code",
   "execution_count": null,
   "id": "c32c56d1",
   "metadata": {},
   "outputs": [],
   "source": [
    "Reading_Scores"
   ]
  },
  {
   "cell_type": "markdown",
   "id": "cec1f62c",
   "metadata": {},
   "source": [
    "## Score by School Spending"
   ]
  },
  {
   "cell_type": "code",
   "execution_count": null,
   "id": "0cfe0c72",
   "metadata": {},
   "outputs": [],
   "source": [
    "#creating bins\n",
    "bins  = [0,585,630,645,680]\n",
    "group_name = [\"<$585\", \"$585-630\", \"$630-645\", \"$645-680\"]"
   ]
  },
  {
   "cell_type": "code",
   "execution_count": null,
   "id": "56d33785",
   "metadata": {},
   "outputs": [],
   "source": [
    "school_summary[\"Per Student Budget\"]=school_summary[\"Per Student Budget\"].apply(lambda x: x.replace('$', '').replace(',', '')).astype('float')\n"
   ]
  },
  {
   "cell_type": "code",
   "execution_count": null,
   "id": "4c79e4f2",
   "metadata": {},
   "outputs": [],
   "source": [
    "school_summary['Spending Ranges(per Student)']=pd.cut(school_summary[\"Per Student Budget\"], bins, labels = group_name)"
   ]
  },
  {
   "cell_type": "code",
   "execution_count": null,
   "id": "59205340",
   "metadata": {},
   "outputs": [],
   "source": [
    "#group by the ranges\n",
    "School_spending = school_summary.groupby('Spending Ranges(per Student)')"
   ]
  },
  {
   "cell_type": "code",
   "execution_count": null,
   "id": "daa93960",
   "metadata": {},
   "outputs": [],
   "source": [
    "# mean values by spending\n",
    "scores_by_school_spending = School_spending.mean()"
   ]
  },
  {
   "cell_type": "code",
   "execution_count": null,
   "id": "d1556c7f",
   "metadata": {},
   "outputs": [],
   "source": [
    "scores_by_school_spending[\"Average Math Score\"] = scores_by_school_spending[\"Average Math Score\"].map(\"{:.2f}\".format)\n",
    "scores_by_school_spending[\"Average Reading Score\"] = scores_by_school_spending[\"Average Reading Score\"].map(\"{:.2f}\".format)\n",
    "scores_by_school_spending[\"% Passing Math\"] = scores_by_school_spending[\"% Passing Math\"].map(\"{:.2f}\".format)\n",
    "scores_by_school_spending[\"% Passing Reading\"] = scores_by_school_spending[\"% Passing Reading\"].map(\"{:.2f}\".format)\n",
    "scores_by_school_spending[\"% Overall Passing\"] = scores_by_school_spending[\"% Overall Passing\"].map(\"{:.2f}\".format)\n"
   ]
  },
  {
   "cell_type": "code",
   "execution_count": null,
   "id": "e84cde4d",
   "metadata": {},
   "outputs": [],
   "source": [
    "# Scores by School spending \n",
    "scores_by_school_spending[[\"Average Math Score\",\n",
    "                    \"Average Reading Score\",\n",
    "                    \"% Passing Math\",\n",
    "                    \"% Passing Reading\",\n",
    "                    \"% Overall Passing\"]]"
   ]
  },
  {
   "cell_type": "markdown",
   "id": "ba73cb89",
   "metadata": {},
   "source": [
    "## Score by School Size"
   ]
  },
  {
   "cell_type": "code",
   "execution_count": null,
   "id": "3ec4938d",
   "metadata": {},
   "outputs": [],
   "source": [
    "#creating bins\n",
    "bins = [0, 1000, 2000,5000]\n",
    "group_name = [\"Small (<1000)\", \"Medium (1000-2000)\" , \"Large (2000-5000)\"]"
   ]
  },
  {
   "cell_type": "code",
   "execution_count": null,
   "id": "95db60b2",
   "metadata": {},
   "outputs": [],
   "source": [
    "school_summary['School Size'] = pd.cut(school_summary['Total Students'], bins, labels = group_name)"
   ]
  },
  {
   "cell_type": "code",
   "execution_count": null,
   "id": "9af7f87c",
   "metadata": {},
   "outputs": [],
   "source": [
    "#group by size\n",
    "School_Size = school_summary.groupby('School Size')"
   ]
  },
  {
   "cell_type": "code",
   "execution_count": null,
   "id": "f994b05d",
   "metadata": {},
   "outputs": [],
   "source": [
    "# mean values by size\n",
    "scores_by_school_size = School_Size.mean()"
   ]
  },
  {
   "cell_type": "code",
   "execution_count": null,
   "id": "405bc323",
   "metadata": {},
   "outputs": [],
   "source": [
    "# Scores by school size\n",
    "scores_by_school_size[[\"Average Math Score\",\n",
    "                \"Average Reading Score\",\n",
    "                \"% Passing Math\",\n",
    "                \"% Passing Reading\",\n",
    "                \"% Overall Passing\"]]"
   ]
  },
  {
   "cell_type": "markdown",
   "id": "565ae920",
   "metadata": {},
   "source": [
    "##  Scores by School Type"
   ]
  },
  {
   "cell_type": "code",
   "execution_count": null,
   "id": "4ff469e3",
   "metadata": {},
   "outputs": [],
   "source": [
    "# group by school type\n",
    "School_type = school_summary.groupby('School Type')"
   ]
  },
  {
   "cell_type": "code",
   "execution_count": null,
   "id": "22402fa0",
   "metadata": {},
   "outputs": [],
   "source": [
    "# mean values by type\n",
    "scores_by_school_type = School_type.mean()"
   ]
  },
  {
   "cell_type": "code",
   "execution_count": null,
   "id": "6029b2c9",
   "metadata": {},
   "outputs": [],
   "source": [
    "# Scores School type \n",
    "scores_by_school_type[[\"Average Math Score\",\n",
    "                \"Average Reading Score\",\n",
    "                \"% Passing Math\",\n",
    "                \"% Passing Reading\",\n",
    "                \"% Overall Passing\"]]"
   ]
  }
 ],
 "metadata": {
  "kernelspec": {
   "display_name": "PythonData38",
   "language": "python",
   "name": "pythondata38"
  },
  "language_info": {
   "codemirror_mode": {
    "name": "ipython",
    "version": 3
   },
   "file_extension": ".py",
   "mimetype": "text/x-python",
   "name": "python",
   "nbconvert_exporter": "python",
   "pygments_lexer": "ipython3",
   "version": "3.9.7"
  }
 },
 "nbformat": 4,
 "nbformat_minor": 5
}
